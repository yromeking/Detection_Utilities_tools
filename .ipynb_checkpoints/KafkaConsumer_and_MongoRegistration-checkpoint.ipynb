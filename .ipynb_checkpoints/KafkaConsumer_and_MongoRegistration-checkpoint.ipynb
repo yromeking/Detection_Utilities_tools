{
 "cells": [
  {
   "cell_type": "code",
   "execution_count": 7,
   "id": "f1835026-0138-401d-8274-071ac46f3962",
   "metadata": {},
   "outputs": [
    {
     "name": "stdout",
     "output_type": "stream",
     "text": [
      "Looking in indexes: https://pypi.org/simple, https://pypi.ngc.nvidia.com\n",
      "Requirement already satisfied: kafka-python==2.0.2 in c:\\users\\lrspr\\anaconda3\\envs\\spi_setup\\lib\\site-packages (2.0.2)\n",
      "Looking in indexes: https://pypi.org/simple, https://pypi.ngc.nvidia.com\n",
      "Requirement already satisfied: pymongo==4.3.3 in c:\\users\\lrspr\\anaconda3\\envs\\spi_setup\\lib\\site-packages (4.3.3)\n",
      "Requirement already satisfied: dnspython<3.0.0,>=1.16.0 in c:\\users\\lrspr\\anaconda3\\envs\\spi_setup\\lib\\site-packages (from pymongo==4.3.3) (2.2.1)\n",
      "Looking in indexes: https://pypi.org/simple, https://pypi.ngc.nvidia.com\n",
      "Requirement already satisfied: matplotlib==3.6.1 in c:\\users\\lrspr\\anaconda3\\envs\\spi_setup\\lib\\site-packages (3.6.1)\n",
      "Requirement already satisfied: pyparsing>=2.2.1 in c:\\users\\lrspr\\anaconda3\\envs\\spi_setup\\lib\\site-packages (from matplotlib==3.6.1) (3.0.9)\n",
      "Requirement already satisfied: kiwisolver>=1.0.1 in c:\\users\\lrspr\\anaconda3\\envs\\spi_setup\\lib\\site-packages (from matplotlib==3.6.1) (1.4.4)\n",
      "Requirement already satisfied: packaging>=20.0 in c:\\users\\lrspr\\anaconda3\\envs\\spi_setup\\lib\\site-packages (from matplotlib==3.6.1) (21.3)\n",
      "Requirement already satisfied: numpy>=1.19 in c:\\users\\lrspr\\anaconda3\\envs\\spi_setup\\lib\\site-packages (from matplotlib==3.6.1) (1.23.5)\n",
      "Requirement already satisfied: pillow>=6.2.0 in c:\\users\\lrspr\\anaconda3\\envs\\spi_setup\\lib\\site-packages (from matplotlib==3.6.1) (9.3.0)\n",
      "Requirement already satisfied: cycler>=0.10 in c:\\users\\lrspr\\anaconda3\\envs\\spi_setup\\lib\\site-packages (from matplotlib==3.6.1) (0.11.0)\n",
      "Requirement already satisfied: fonttools>=4.22.0 in c:\\users\\lrspr\\anaconda3\\envs\\spi_setup\\lib\\site-packages (from matplotlib==3.6.1) (4.38.0)\n",
      "Requirement already satisfied: python-dateutil>=2.7 in c:\\users\\lrspr\\anaconda3\\envs\\spi_setup\\lib\\site-packages (from matplotlib==3.6.1) (2.8.2)\n",
      "Requirement already satisfied: contourpy>=1.0.1 in c:\\users\\lrspr\\anaconda3\\envs\\spi_setup\\lib\\site-packages (from matplotlib==3.6.1) (1.0.6)\n",
      "Requirement already satisfied: six>=1.5 in c:\\users\\lrspr\\anaconda3\\envs\\spi_setup\\lib\\site-packages (from python-dateutil>=2.7->matplotlib==3.6.1) (1.16.0)\n",
      "Looking in indexes: https://pypi.org/simple, https://pypi.ngc.nvidia.com\n",
      "Requirement already satisfied: opencv-python==4.6.0.66 in c:\\users\\lrspr\\anaconda3\\envs\\spi_setup\\lib\\site-packages (4.6.0.66)\n",
      "Requirement already satisfied: numpy>=1.21.2 in c:\\users\\lrspr\\anaconda3\\envs\\spi_setup\\lib\\site-packages (from opencv-python==4.6.0.66) (1.23.5)\n",
      "Looking in indexes: https://pypi.org/simple, https://pypi.ngc.nvidia.com\n",
      "Requirement already satisfied: imutils==0.5.4 in c:\\users\\lrspr\\anaconda3\\envs\\spi_setup\\lib\\site-packages (0.5.4)\n",
      "Looking in indexes: https://pypi.org/simple, https://pypi.ngc.nvidia.com\n",
      "Requirement already satisfied: cmake==3.25.0 in c:\\users\\lrspr\\anaconda3\\envs\\spi_setup\\lib\\site-packages (3.25.0)\n",
      "Looking in indexes: https://pypi.org/simple, https://pypi.ngc.nvidia.com\n",
      "Requirement already satisfied: face_recognition==1.3.0 in c:\\users\\lrspr\\anaconda3\\envs\\spi_setup\\lib\\site-packages (1.3.0)\n",
      "Requirement already satisfied: Click>=6.0 in c:\\users\\lrspr\\anaconda3\\envs\\spi_setup\\lib\\site-packages (from face_recognition==1.3.0) (8.1.3)\n",
      "Requirement already satisfied: numpy in c:\\users\\lrspr\\anaconda3\\envs\\spi_setup\\lib\\site-packages (from face_recognition==1.3.0) (1.23.5)\n",
      "Requirement already satisfied: dlib>=19.7 in c:\\users\\lrspr\\anaconda3\\envs\\spi_setup\\lib\\site-packages (from face_recognition==1.3.0) (19.24.0)\n",
      "Requirement already satisfied: face-recognition-models>=0.3.0 in c:\\users\\lrspr\\anaconda3\\envs\\spi_setup\\lib\\site-packages (from face_recognition==1.3.0) (0.3.0)\n",
      "Requirement already satisfied: Pillow in c:\\users\\lrspr\\anaconda3\\envs\\spi_setup\\lib\\site-packages (from face_recognition==1.3.0) (9.3.0)\n",
      "Requirement already satisfied: colorama in c:\\users\\lrspr\\anaconda3\\envs\\spi_setup\\lib\\site-packages (from Click>=6.0->face_recognition==1.3.0) (0.4.6)\n",
      "Looking in indexes: https://pypi.org/simple, https://pypi.ngc.nvidia.com\n",
      "Requirement already satisfied: folium==0.13.0 in c:\\users\\lrspr\\anaconda3\\envs\\spi_setup\\lib\\site-packages (0.13.0)\n",
      "Requirement already satisfied: jinja2>=2.9 in c:\\users\\lrspr\\anaconda3\\envs\\spi_setup\\lib\\site-packages (from folium==0.13.0) (3.1.2)\n",
      "Requirement already satisfied: branca>=0.3.0 in c:\\users\\lrspr\\anaconda3\\envs\\spi_setup\\lib\\site-packages (from folium==0.13.0) (0.6.0)\n",
      "Requirement already satisfied: numpy in c:\\users\\lrspr\\anaconda3\\envs\\spi_setup\\lib\\site-packages (from folium==0.13.0) (1.23.5)\n",
      "Requirement already satisfied: requests in c:\\users\\lrspr\\anaconda3\\envs\\spi_setup\\lib\\site-packages (from folium==0.13.0) (2.28.1)\n",
      "Requirement already satisfied: MarkupSafe>=2.0 in c:\\users\\lrspr\\anaconda3\\envs\\spi_setup\\lib\\site-packages (from jinja2>=2.9->folium==0.13.0) (2.1.1)\n",
      "Requirement already satisfied: charset-normalizer<3,>=2 in c:\\users\\lrspr\\anaconda3\\envs\\spi_setup\\lib\\site-packages (from requests->folium==0.13.0) (2.1.1)\n",
      "Requirement already satisfied: idna<4,>=2.5 in c:\\users\\lrspr\\anaconda3\\envs\\spi_setup\\lib\\site-packages (from requests->folium==0.13.0) (3.4)\n",
      "Requirement already satisfied: certifi>=2017.4.17 in c:\\users\\lrspr\\anaconda3\\envs\\spi_setup\\lib\\site-packages (from requests->folium==0.13.0) (2022.9.24)\n",
      "Requirement already satisfied: urllib3<1.27,>=1.21.1 in c:\\users\\lrspr\\anaconda3\\envs\\spi_setup\\lib\\site-packages (from requests->folium==0.13.0) (1.26.13)\n",
      "Looking in indexes: https://pypi.org/simple, https://pypi.ngc.nvidia.com\n",
      "Requirement already satisfied: ipyleaflet==0.17.2 in c:\\users\\lrspr\\anaconda3\\envs\\spi_setup\\lib\\site-packages (0.17.2)\n",
      "Requirement already satisfied: ipywidgets<9,>=7.6.0 in c:\\users\\lrspr\\anaconda3\\envs\\spi_setup\\lib\\site-packages (from ipyleaflet==0.17.2) (8.0.2)\n",
      "Requirement already satisfied: branca>=0.5.0 in c:\\users\\lrspr\\anaconda3\\envs\\spi_setup\\lib\\site-packages (from ipyleaflet==0.17.2) (0.6.0)\n",
      "Requirement already satisfied: xyzservices>=2021.8.1 in c:\\users\\lrspr\\anaconda3\\envs\\spi_setup\\lib\\site-packages (from ipyleaflet==0.17.2) (2022.9.0)\n",
      "Requirement already satisfied: traittypes<3,>=0.2.1 in c:\\users\\lrspr\\anaconda3\\envs\\spi_setup\\lib\\site-packages (from ipyleaflet==0.17.2) (0.2.1)\n",
      "Requirement already satisfied: jinja2 in c:\\users\\lrspr\\anaconda3\\envs\\spi_setup\\lib\\site-packages (from branca>=0.5.0->ipyleaflet==0.17.2) (3.1.2)\n",
      "Requirement already satisfied: traitlets>=4.3.1 in c:\\users\\lrspr\\anaconda3\\envs\\spi_setup\\lib\\site-packages (from ipywidgets<9,>=7.6.0->ipyleaflet==0.17.2) (5.6.0)\n",
      "Requirement already satisfied: jupyterlab-widgets~=3.0 in c:\\users\\lrspr\\anaconda3\\envs\\spi_setup\\lib\\site-packages (from ipywidgets<9,>=7.6.0->ipyleaflet==0.17.2) (3.0.3)\n",
      "Requirement already satisfied: widgetsnbextension~=4.0 in c:\\users\\lrspr\\anaconda3\\envs\\spi_setup\\lib\\site-packages (from ipywidgets<9,>=7.6.0->ipyleaflet==0.17.2) (4.0.3)\n",
      "Requirement already satisfied: ipython>=6.1.0 in c:\\users\\lrspr\\anaconda3\\envs\\spi_setup\\lib\\site-packages (from ipywidgets<9,>=7.6.0->ipyleaflet==0.17.2) (8.7.0)\n",
      "Requirement already satisfied: ipykernel>=4.5.1 in c:\\users\\lrspr\\anaconda3\\envs\\spi_setup\\lib\\site-packages (from ipywidgets<9,>=7.6.0->ipyleaflet==0.17.2) (6.17.1)\n",
      "Requirement already satisfied: jupyter-client>=6.1.12 in c:\\users\\lrspr\\anaconda3\\envs\\spi_setup\\lib\\site-packages (from ipykernel>=4.5.1->ipywidgets<9,>=7.6.0->ipyleaflet==0.17.2) (7.4.8)\n",
      "Requirement already satisfied: pyzmq>=17 in c:\\users\\lrspr\\anaconda3\\envs\\spi_setup\\lib\\site-packages (from ipykernel>=4.5.1->ipywidgets<9,>=7.6.0->ipyleaflet==0.17.2) (24.0.1)\n",
      "Requirement already satisfied: packaging in c:\\users\\lrspr\\anaconda3\\envs\\spi_setup\\lib\\site-packages (from ipykernel>=4.5.1->ipywidgets<9,>=7.6.0->ipyleaflet==0.17.2) (21.3)\n",
      "Requirement already satisfied: nest-asyncio in c:\\users\\lrspr\\anaconda3\\envs\\spi_setup\\lib\\site-packages (from ipykernel>=4.5.1->ipywidgets<9,>=7.6.0->ipyleaflet==0.17.2) (1.5.6)\n",
      "Requirement already satisfied: debugpy>=1.0 in c:\\users\\lrspr\\anaconda3\\envs\\spi_setup\\lib\\site-packages (from ipykernel>=4.5.1->ipywidgets<9,>=7.6.0->ipyleaflet==0.17.2) (1.6.4)\n",
      "Requirement already satisfied: tornado>=6.1 in c:\\users\\lrspr\\anaconda3\\envs\\spi_setup\\lib\\site-packages (from ipykernel>=4.5.1->ipywidgets<9,>=7.6.0->ipyleaflet==0.17.2) (6.2)\n",
      "Requirement already satisfied: matplotlib-inline>=0.1 in c:\\users\\lrspr\\anaconda3\\envs\\spi_setup\\lib\\site-packages (from ipykernel>=4.5.1->ipywidgets<9,>=7.6.0->ipyleaflet==0.17.2) (0.1.6)\n",
      "Requirement already satisfied: psutil in c:\\users\\lrspr\\anaconda3\\envs\\spi_setup\\lib\\site-packages (from ipykernel>=4.5.1->ipywidgets<9,>=7.6.0->ipyleaflet==0.17.2) (5.9.4)\n",
      "Requirement already satisfied: colorama in c:\\users\\lrspr\\anaconda3\\envs\\spi_setup\\lib\\site-packages (from ipython>=6.1.0->ipywidgets<9,>=7.6.0->ipyleaflet==0.17.2) (0.4.6)\n",
      "Requirement already satisfied: stack-data in c:\\users\\lrspr\\anaconda3\\envs\\spi_setup\\lib\\site-packages (from ipython>=6.1.0->ipywidgets<9,>=7.6.0->ipyleaflet==0.17.2) (0.6.2)\n",
      "Requirement already satisfied: decorator in c:\\users\\lrspr\\anaconda3\\envs\\spi_setup\\lib\\site-packages (from ipython>=6.1.0->ipywidgets<9,>=7.6.0->ipyleaflet==0.17.2) (5.1.1)\n",
      "Requirement already satisfied: backcall in c:\\users\\lrspr\\anaconda3\\envs\\spi_setup\\lib\\site-packages (from ipython>=6.1.0->ipywidgets<9,>=7.6.0->ipyleaflet==0.17.2) (0.2.0)\n",
      "Requirement already satisfied: jedi>=0.16 in c:\\users\\lrspr\\anaconda3\\envs\\spi_setup\\lib\\site-packages (from ipython>=6.1.0->ipywidgets<9,>=7.6.0->ipyleaflet==0.17.2) (0.18.2)\n",
      "Requirement already satisfied: pickleshare in c:\\users\\lrspr\\anaconda3\\envs\\spi_setup\\lib\\site-packages (from ipython>=6.1.0->ipywidgets<9,>=7.6.0->ipyleaflet==0.17.2) (0.7.5)\n",
      "Requirement already satisfied: prompt-toolkit<3.1.0,>=3.0.11 in c:\\users\\lrspr\\anaconda3\\envs\\spi_setup\\lib\\site-packages (from ipython>=6.1.0->ipywidgets<9,>=7.6.0->ipyleaflet==0.17.2) (3.0.33)\n",
      "Requirement already satisfied: pygments>=2.4.0 in c:\\users\\lrspr\\anaconda3\\envs\\spi_setup\\lib\\site-packages (from ipython>=6.1.0->ipywidgets<9,>=7.6.0->ipyleaflet==0.17.2) (2.13.0)\n",
      "Requirement already satisfied: MarkupSafe>=2.0 in c:\\users\\lrspr\\anaconda3\\envs\\spi_setup\\lib\\site-packages (from jinja2->branca>=0.5.0->ipyleaflet==0.17.2) (2.1.1)\n",
      "Requirement already satisfied: parso<0.9.0,>=0.8.0 in c:\\users\\lrspr\\anaconda3\\envs\\spi_setup\\lib\\site-packages (from jedi>=0.16->ipython>=6.1.0->ipywidgets<9,>=7.6.0->ipyleaflet==0.17.2) (0.8.3)\n",
      "Requirement already satisfied: python-dateutil>=2.8.2 in c:\\users\\lrspr\\anaconda3\\envs\\spi_setup\\lib\\site-packages (from jupyter-client>=6.1.12->ipykernel>=4.5.1->ipywidgets<9,>=7.6.0->ipyleaflet==0.17.2) (2.8.2)\n",
      "Requirement already satisfied: jupyter-core>=4.9.2 in c:\\users\\lrspr\\anaconda3\\envs\\spi_setup\\lib\\site-packages (from jupyter-client>=6.1.12->ipykernel>=4.5.1->ipywidgets<9,>=7.6.0->ipyleaflet==0.17.2) (5.1.0)\n",
      "Requirement already satisfied: entrypoints in c:\\users\\lrspr\\anaconda3\\envs\\spi_setup\\lib\\site-packages (from jupyter-client>=6.1.12->ipykernel>=4.5.1->ipywidgets<9,>=7.6.0->ipyleaflet==0.17.2) (0.4)\n",
      "Requirement already satisfied: wcwidth in c:\\users\\lrspr\\anaconda3\\envs\\spi_setup\\lib\\site-packages (from prompt-toolkit<3.1.0,>=3.0.11->ipython>=6.1.0->ipywidgets<9,>=7.6.0->ipyleaflet==0.17.2) (0.2.5)\n",
      "Requirement already satisfied: pyparsing!=3.0.5,>=2.0.2 in c:\\users\\lrspr\\anaconda3\\envs\\spi_setup\\lib\\site-packages (from packaging->ipykernel>=4.5.1->ipywidgets<9,>=7.6.0->ipyleaflet==0.17.2) (3.0.9)\n",
      "Requirement already satisfied: asttokens>=2.1.0 in c:\\users\\lrspr\\anaconda3\\envs\\spi_setup\\lib\\site-packages (from stack-data->ipython>=6.1.0->ipywidgets<9,>=7.6.0->ipyleaflet==0.17.2) (2.2.1)\n",
      "Requirement already satisfied: pure-eval in c:\\users\\lrspr\\anaconda3\\envs\\spi_setup\\lib\\site-packages (from stack-data->ipython>=6.1.0->ipywidgets<9,>=7.6.0->ipyleaflet==0.17.2) (0.2.2)\n",
      "Requirement already satisfied: executing>=1.2.0 in c:\\users\\lrspr\\anaconda3\\envs\\spi_setup\\lib\\site-packages (from stack-data->ipython>=6.1.0->ipywidgets<9,>=7.6.0->ipyleaflet==0.17.2) (1.2.0)\n",
      "Requirement already satisfied: six in c:\\users\\lrspr\\anaconda3\\envs\\spi_setup\\lib\\site-packages (from asttokens>=2.1.0->stack-data->ipython>=6.1.0->ipywidgets<9,>=7.6.0->ipyleaflet==0.17.2) (1.16.0)\n",
      "Requirement already satisfied: pywin32>=1.0 in c:\\users\\lrspr\\anaconda3\\envs\\spi_setup\\lib\\site-packages (from jupyter-core>=4.9.2->jupyter-client>=6.1.12->ipykernel>=4.5.1->ipywidgets<9,>=7.6.0->ipyleaflet==0.17.2) (305)\n",
      "Requirement already satisfied: platformdirs>=2.5 in c:\\users\\lrspr\\anaconda3\\envs\\spi_setup\\lib\\site-packages (from jupyter-core>=4.9.2->jupyter-client>=6.1.12->ipykernel>=4.5.1->ipywidgets<9,>=7.6.0->ipyleaflet==0.17.2) (2.5.4)\n",
      "Looking in indexes: https://pypi.org/simple, https://pypi.ngc.nvidia.com\n",
      "Collecting sidecar==0.5.1\n",
      "  Downloading sidecar-0.5.1-py2.py3-none-any.whl (80 kB)\n",
      "     ---------------------------------------- 81.0/81.0 kB 4.7 MB/s eta 0:00:00\n",
      "Requirement already satisfied: ipywidgets>=7.6.0 in c:\\users\\lrspr\\anaconda3\\envs\\spi_setup\\lib\\site-packages (from sidecar==0.5.1) (8.0.2)\n",
      "Requirement already satisfied: jupyterlab<4,>=3.0.0 in c:\\users\\lrspr\\anaconda3\\envs\\spi_setup\\lib\\site-packages (from sidecar==0.5.1) (3.5.1)\n",
      "Requirement already satisfied: traitlets>=4.3.1 in c:\\users\\lrspr\\anaconda3\\envs\\spi_setup\\lib\\site-packages (from ipywidgets>=7.6.0->sidecar==0.5.1) (5.6.0)\n",
      "Requirement already satisfied: ipykernel>=4.5.1 in c:\\users\\lrspr\\anaconda3\\envs\\spi_setup\\lib\\site-packages (from ipywidgets>=7.6.0->sidecar==0.5.1) (6.17.1)\n",
      "Requirement already satisfied: ipython>=6.1.0 in c:\\users\\lrspr\\anaconda3\\envs\\spi_setup\\lib\\site-packages (from ipywidgets>=7.6.0->sidecar==0.5.1) (8.7.0)\n",
      "Requirement already satisfied: widgetsnbextension~=4.0 in c:\\users\\lrspr\\anaconda3\\envs\\spi_setup\\lib\\site-packages (from ipywidgets>=7.6.0->sidecar==0.5.1) (4.0.3)\n",
      "Requirement already satisfied: jupyterlab-widgets~=3.0 in c:\\users\\lrspr\\anaconda3\\envs\\spi_setup\\lib\\site-packages (from ipywidgets>=7.6.0->sidecar==0.5.1) (3.0.3)\n",
      "Requirement already satisfied: packaging in c:\\users\\lrspr\\anaconda3\\envs\\spi_setup\\lib\\site-packages (from jupyterlab<4,>=3.0.0->sidecar==0.5.1) (21.3)\n",
      "Requirement already satisfied: jupyter-core in c:\\users\\lrspr\\anaconda3\\envs\\spi_setup\\lib\\site-packages (from jupyterlab<4,>=3.0.0->sidecar==0.5.1) (5.1.0)\n",
      "Requirement already satisfied: tornado>=6.1.0 in c:\\users\\lrspr\\anaconda3\\envs\\spi_setup\\lib\\site-packages (from jupyterlab<4,>=3.0.0->sidecar==0.5.1) (6.2)\n",
      "Requirement already satisfied: tomli in c:\\users\\lrspr\\anaconda3\\envs\\spi_setup\\lib\\site-packages (from jupyterlab<4,>=3.0.0->sidecar==0.5.1) (2.0.1)\n",
      "Requirement already satisfied: jupyter-server<3,>=1.16.0 in c:\\users\\lrspr\\anaconda3\\envs\\spi_setup\\lib\\site-packages (from jupyterlab<4,>=3.0.0->sidecar==0.5.1) (1.23.3)\n",
      "Requirement already satisfied: nbclassic in c:\\users\\lrspr\\anaconda3\\envs\\spi_setup\\lib\\site-packages (from jupyterlab<4,>=3.0.0->sidecar==0.5.1) (0.4.8)\n",
      "Requirement already satisfied: notebook<7 in c:\\users\\lrspr\\anaconda3\\envs\\spi_setup\\lib\\site-packages (from jupyterlab<4,>=3.0.0->sidecar==0.5.1) (6.5.2)\n",
      "Requirement already satisfied: jupyterlab-server~=2.10 in c:\\users\\lrspr\\anaconda3\\envs\\spi_setup\\lib\\site-packages (from jupyterlab<4,>=3.0.0->sidecar==0.5.1) (2.16.3)\n",
      "Requirement already satisfied: jinja2>=2.1 in c:\\users\\lrspr\\anaconda3\\envs\\spi_setup\\lib\\site-packages (from jupyterlab<4,>=3.0.0->sidecar==0.5.1) (3.1.2)\n",
      "Requirement already satisfied: psutil in c:\\users\\lrspr\\anaconda3\\envs\\spi_setup\\lib\\site-packages (from ipykernel>=4.5.1->ipywidgets>=7.6.0->sidecar==0.5.1) (5.9.4)\n",
      "Requirement already satisfied: debugpy>=1.0 in c:\\users\\lrspr\\anaconda3\\envs\\spi_setup\\lib\\site-packages (from ipykernel>=4.5.1->ipywidgets>=7.6.0->sidecar==0.5.1) (1.6.4)\n",
      "Requirement already satisfied: pyzmq>=17 in c:\\users\\lrspr\\anaconda3\\envs\\spi_setup\\lib\\site-packages (from ipykernel>=4.5.1->ipywidgets>=7.6.0->sidecar==0.5.1) (24.0.1)\n",
      "Requirement already satisfied: nest-asyncio in c:\\users\\lrspr\\anaconda3\\envs\\spi_setup\\lib\\site-packages (from ipykernel>=4.5.1->ipywidgets>=7.6.0->sidecar==0.5.1) (1.5.6)\n",
      "Requirement already satisfied: jupyter-client>=6.1.12 in c:\\users\\lrspr\\anaconda3\\envs\\spi_setup\\lib\\site-packages (from ipykernel>=4.5.1->ipywidgets>=7.6.0->sidecar==0.5.1) (7.4.8)\n",
      "Requirement already satisfied: matplotlib-inline>=0.1 in c:\\users\\lrspr\\anaconda3\\envs\\spi_setup\\lib\\site-packages (from ipykernel>=4.5.1->ipywidgets>=7.6.0->sidecar==0.5.1) (0.1.6)\n",
      "Requirement already satisfied: backcall in c:\\users\\lrspr\\anaconda3\\envs\\spi_setup\\lib\\site-packages (from ipython>=6.1.0->ipywidgets>=7.6.0->sidecar==0.5.1) (0.2.0)\n",
      "Requirement already satisfied: colorama in c:\\users\\lrspr\\anaconda3\\envs\\spi_setup\\lib\\site-packages (from ipython>=6.1.0->ipywidgets>=7.6.0->sidecar==0.5.1) (0.4.6)\n",
      "Requirement already satisfied: prompt-toolkit<3.1.0,>=3.0.11 in c:\\users\\lrspr\\anaconda3\\envs\\spi_setup\\lib\\site-packages (from ipython>=6.1.0->ipywidgets>=7.6.0->sidecar==0.5.1) (3.0.33)\n",
      "Requirement already satisfied: jedi>=0.16 in c:\\users\\lrspr\\anaconda3\\envs\\spi_setup\\lib\\site-packages (from ipython>=6.1.0->ipywidgets>=7.6.0->sidecar==0.5.1) (0.18.2)\n",
      "Requirement already satisfied: pickleshare in c:\\users\\lrspr\\anaconda3\\envs\\spi_setup\\lib\\site-packages (from ipython>=6.1.0->ipywidgets>=7.6.0->sidecar==0.5.1) (0.7.5)\n",
      "Requirement already satisfied: pygments>=2.4.0 in c:\\users\\lrspr\\anaconda3\\envs\\spi_setup\\lib\\site-packages (from ipython>=6.1.0->ipywidgets>=7.6.0->sidecar==0.5.1) (2.13.0)\n",
      "Requirement already satisfied: decorator in c:\\users\\lrspr\\anaconda3\\envs\\spi_setup\\lib\\site-packages (from ipython>=6.1.0->ipywidgets>=7.6.0->sidecar==0.5.1) (5.1.1)\n",
      "Requirement already satisfied: stack-data in c:\\users\\lrspr\\anaconda3\\envs\\spi_setup\\lib\\site-packages (from ipython>=6.1.0->ipywidgets>=7.6.0->sidecar==0.5.1) (0.6.2)\n",
      "Requirement already satisfied: MarkupSafe>=2.0 in c:\\users\\lrspr\\anaconda3\\envs\\spi_setup\\lib\\site-packages (from jinja2>=2.1->jupyterlab<4,>=3.0.0->sidecar==0.5.1) (2.1.1)\n",
      "Requirement already satisfied: anyio<4,>=3.1.0 in c:\\users\\lrspr\\anaconda3\\envs\\spi_setup\\lib\\site-packages (from jupyter-server<3,>=1.16.0->jupyterlab<4,>=3.0.0->sidecar==0.5.1) (3.6.2)\n",
      "Requirement already satisfied: argon2-cffi in c:\\users\\lrspr\\anaconda3\\envs\\spi_setup\\lib\\site-packages (from jupyter-server<3,>=1.16.0->jupyterlab<4,>=3.0.0->sidecar==0.5.1) (21.3.0)\n",
      "Requirement already satisfied: prometheus-client in c:\\users\\lrspr\\anaconda3\\envs\\spi_setup\\lib\\site-packages (from jupyter-server<3,>=1.16.0->jupyterlab<4,>=3.0.0->sidecar==0.5.1) (0.15.0)\n",
      "Requirement already satisfied: Send2Trash in c:\\users\\lrspr\\anaconda3\\envs\\spi_setup\\lib\\site-packages (from jupyter-server<3,>=1.16.0->jupyterlab<4,>=3.0.0->sidecar==0.5.1) (1.8.0)\n",
      "Requirement already satisfied: nbconvert>=6.4.4 in c:\\users\\lrspr\\anaconda3\\envs\\spi_setup\\lib\\site-packages (from jupyter-server<3,>=1.16.0->jupyterlab<4,>=3.0.0->sidecar==0.5.1) (7.2.6)\n",
      "Requirement already satisfied: terminado>=0.8.3 in c:\\users\\lrspr\\anaconda3\\envs\\spi_setup\\lib\\site-packages (from jupyter-server<3,>=1.16.0->jupyterlab<4,>=3.0.0->sidecar==0.5.1) (0.17.1)\n",
      "Requirement already satisfied: websocket-client in c:\\users\\lrspr\\anaconda3\\envs\\spi_setup\\lib\\site-packages (from jupyter-server<3,>=1.16.0->jupyterlab<4,>=3.0.0->sidecar==0.5.1) (1.4.2)\n",
      "Requirement already satisfied: pywinpty in c:\\users\\lrspr\\anaconda3\\envs\\spi_setup\\lib\\site-packages (from jupyter-server<3,>=1.16.0->jupyterlab<4,>=3.0.0->sidecar==0.5.1) (2.0.9)\n",
      "Requirement already satisfied: nbformat>=5.2.0 in c:\\users\\lrspr\\anaconda3\\envs\\spi_setup\\lib\\site-packages (from jupyter-server<3,>=1.16.0->jupyterlab<4,>=3.0.0->sidecar==0.5.1) (5.7.0)\n",
      "Requirement already satisfied: pywin32>=1.0 in c:\\users\\lrspr\\anaconda3\\envs\\spi_setup\\lib\\site-packages (from jupyter-core->jupyterlab<4,>=3.0.0->sidecar==0.5.1) (305)\n",
      "Requirement already satisfied: platformdirs>=2.5 in c:\\users\\lrspr\\anaconda3\\envs\\spi_setup\\lib\\site-packages (from jupyter-core->jupyterlab<4,>=3.0.0->sidecar==0.5.1) (2.5.4)\n",
      "Requirement already satisfied: requests in c:\\users\\lrspr\\anaconda3\\envs\\spi_setup\\lib\\site-packages (from jupyterlab-server~=2.10->jupyterlab<4,>=3.0.0->sidecar==0.5.1) (2.28.1)\n",
      "Requirement already satisfied: jsonschema>=3.0.1 in c:\\users\\lrspr\\anaconda3\\envs\\spi_setup\\lib\\site-packages (from jupyterlab-server~=2.10->jupyterlab<4,>=3.0.0->sidecar==0.5.1) (4.17.3)\n",
      "Requirement already satisfied: babel in c:\\users\\lrspr\\anaconda3\\envs\\spi_setup\\lib\\site-packages (from jupyterlab-server~=2.10->jupyterlab<4,>=3.0.0->sidecar==0.5.1) (2.11.0)\n",
      "Requirement already satisfied: json5 in c:\\users\\lrspr\\anaconda3\\envs\\spi_setup\\lib\\site-packages (from jupyterlab-server~=2.10->jupyterlab<4,>=3.0.0->sidecar==0.5.1) (0.9.10)\n",
      "Requirement already satisfied: ipython-genutils in c:\\users\\lrspr\\anaconda3\\envs\\spi_setup\\lib\\site-packages (from notebook<7->jupyterlab<4,>=3.0.0->sidecar==0.5.1) (0.2.0)\n",
      "Requirement already satisfied: notebook-shim>=0.1.0 in c:\\users\\lrspr\\anaconda3\\envs\\spi_setup\\lib\\site-packages (from nbclassic->jupyterlab<4,>=3.0.0->sidecar==0.5.1) (0.2.2)\n",
      "Requirement already satisfied: pyparsing!=3.0.5,>=2.0.2 in c:\\users\\lrspr\\anaconda3\\envs\\spi_setup\\lib\\site-packages (from packaging->jupyterlab<4,>=3.0.0->sidecar==0.5.1) (3.0.9)\n",
      "Requirement already satisfied: idna>=2.8 in c:\\users\\lrspr\\anaconda3\\envs\\spi_setup\\lib\\site-packages (from anyio<4,>=3.1.0->jupyter-server<3,>=1.16.0->jupyterlab<4,>=3.0.0->sidecar==0.5.1) (3.4)\n",
      "Requirement already satisfied: sniffio>=1.1 in c:\\users\\lrspr\\anaconda3\\envs\\spi_setup\\lib\\site-packages (from anyio<4,>=3.1.0->jupyter-server<3,>=1.16.0->jupyterlab<4,>=3.0.0->sidecar==0.5.1) (1.3.0)\n",
      "Requirement already satisfied: parso<0.9.0,>=0.8.0 in c:\\users\\lrspr\\anaconda3\\envs\\spi_setup\\lib\\site-packages (from jedi>=0.16->ipython>=6.1.0->ipywidgets>=7.6.0->sidecar==0.5.1) (0.8.3)\n",
      "Requirement already satisfied: pyrsistent!=0.17.0,!=0.17.1,!=0.17.2,>=0.14.0 in c:\\users\\lrspr\\anaconda3\\envs\\spi_setup\\lib\\site-packages (from jsonschema>=3.0.1->jupyterlab-server~=2.10->jupyterlab<4,>=3.0.0->sidecar==0.5.1) (0.19.2)\n",
      "Requirement already satisfied: attrs>=17.4.0 in c:\\users\\lrspr\\anaconda3\\envs\\spi_setup\\lib\\site-packages (from jsonschema>=3.0.1->jupyterlab-server~=2.10->jupyterlab<4,>=3.0.0->sidecar==0.5.1) (22.1.0)\n",
      "Requirement already satisfied: python-dateutil>=2.8.2 in c:\\users\\lrspr\\anaconda3\\envs\\spi_setup\\lib\\site-packages (from jupyter-client>=6.1.12->ipykernel>=4.5.1->ipywidgets>=7.6.0->sidecar==0.5.1) (2.8.2)\n",
      "Requirement already satisfied: entrypoints in c:\\users\\lrspr\\anaconda3\\envs\\spi_setup\\lib\\site-packages (from jupyter-client>=6.1.12->ipykernel>=4.5.1->ipywidgets>=7.6.0->sidecar==0.5.1) (0.4)\n",
      "Requirement already satisfied: nbclient>=0.5.0 in c:\\users\\lrspr\\anaconda3\\envs\\spi_setup\\lib\\site-packages (from nbconvert>=6.4.4->jupyter-server<3,>=1.16.0->jupyterlab<4,>=3.0.0->sidecar==0.5.1) (0.7.2)\n",
      "Requirement already satisfied: tinycss2 in c:\\users\\lrspr\\anaconda3\\envs\\spi_setup\\lib\\site-packages (from nbconvert>=6.4.4->jupyter-server<3,>=1.16.0->jupyterlab<4,>=3.0.0->sidecar==0.5.1) (1.2.1)\n",
      "Requirement already satisfied: pandocfilters>=1.4.1 in c:\\users\\lrspr\\anaconda3\\envs\\spi_setup\\lib\\site-packages (from nbconvert>=6.4.4->jupyter-server<3,>=1.16.0->jupyterlab<4,>=3.0.0->sidecar==0.5.1) (1.5.0)\n",
      "Requirement already satisfied: defusedxml in c:\\users\\lrspr\\anaconda3\\envs\\spi_setup\\lib\\site-packages (from nbconvert>=6.4.4->jupyter-server<3,>=1.16.0->jupyterlab<4,>=3.0.0->sidecar==0.5.1) (0.7.1)\n",
      "Requirement already satisfied: mistune<3,>=2.0.3 in c:\\users\\lrspr\\anaconda3\\envs\\spi_setup\\lib\\site-packages (from nbconvert>=6.4.4->jupyter-server<3,>=1.16.0->jupyterlab<4,>=3.0.0->sidecar==0.5.1) (2.0.4)\n",
      "Requirement already satisfied: bleach in c:\\users\\lrspr\\anaconda3\\envs\\spi_setup\\lib\\site-packages (from nbconvert>=6.4.4->jupyter-server<3,>=1.16.0->jupyterlab<4,>=3.0.0->sidecar==0.5.1) (5.0.1)\n",
      "Requirement already satisfied: beautifulsoup4 in c:\\users\\lrspr\\anaconda3\\envs\\spi_setup\\lib\\site-packages (from nbconvert>=6.4.4->jupyter-server<3,>=1.16.0->jupyterlab<4,>=3.0.0->sidecar==0.5.1) (4.11.1)\n",
      "Requirement already satisfied: jupyterlab-pygments in c:\\users\\lrspr\\anaconda3\\envs\\spi_setup\\lib\\site-packages (from nbconvert>=6.4.4->jupyter-server<3,>=1.16.0->jupyterlab<4,>=3.0.0->sidecar==0.5.1) (0.2.2)\n",
      "Requirement already satisfied: fastjsonschema in c:\\users\\lrspr\\anaconda3\\envs\\spi_setup\\lib\\site-packages (from nbformat>=5.2.0->jupyter-server<3,>=1.16.0->jupyterlab<4,>=3.0.0->sidecar==0.5.1) (2.16.2)\n",
      "Requirement already satisfied: wcwidth in c:\\users\\lrspr\\anaconda3\\envs\\spi_setup\\lib\\site-packages (from prompt-toolkit<3.1.0,>=3.0.11->ipython>=6.1.0->ipywidgets>=7.6.0->sidecar==0.5.1) (0.2.5)\n",
      "Requirement already satisfied: argon2-cffi-bindings in c:\\users\\lrspr\\anaconda3\\envs\\spi_setup\\lib\\site-packages (from argon2-cffi->jupyter-server<3,>=1.16.0->jupyterlab<4,>=3.0.0->sidecar==0.5.1) (21.2.0)\n",
      "Requirement already satisfied: pytz>=2015.7 in c:\\users\\lrspr\\anaconda3\\envs\\spi_setup\\lib\\site-packages (from babel->jupyterlab-server~=2.10->jupyterlab<4,>=3.0.0->sidecar==0.5.1) (2022.6)\n",
      "Requirement already satisfied: charset-normalizer<3,>=2 in c:\\users\\lrspr\\anaconda3\\envs\\spi_setup\\lib\\site-packages (from requests->jupyterlab-server~=2.10->jupyterlab<4,>=3.0.0->sidecar==0.5.1) (2.1.1)\n",
      "Requirement already satisfied: certifi>=2017.4.17 in c:\\users\\lrspr\\anaconda3\\envs\\spi_setup\\lib\\site-packages (from requests->jupyterlab-server~=2.10->jupyterlab<4,>=3.0.0->sidecar==0.5.1) (2022.9.24)\n",
      "Requirement already satisfied: urllib3<1.27,>=1.21.1 in c:\\users\\lrspr\\anaconda3\\envs\\spi_setup\\lib\\site-packages (from requests->jupyterlab-server~=2.10->jupyterlab<4,>=3.0.0->sidecar==0.5.1) (1.26.13)\n",
      "Requirement already satisfied: executing>=1.2.0 in c:\\users\\lrspr\\anaconda3\\envs\\spi_setup\\lib\\site-packages (from stack-data->ipython>=6.1.0->ipywidgets>=7.6.0->sidecar==0.5.1) (1.2.0)\n",
      "Requirement already satisfied: pure-eval in c:\\users\\lrspr\\anaconda3\\envs\\spi_setup\\lib\\site-packages (from stack-data->ipython>=6.1.0->ipywidgets>=7.6.0->sidecar==0.5.1) (0.2.2)\n",
      "Requirement already satisfied: asttokens>=2.1.0 in c:\\users\\lrspr\\anaconda3\\envs\\spi_setup\\lib\\site-packages (from stack-data->ipython>=6.1.0->ipywidgets>=7.6.0->sidecar==0.5.1) (2.2.1)\n",
      "Requirement already satisfied: six in c:\\users\\lrspr\\anaconda3\\envs\\spi_setup\\lib\\site-packages (from asttokens>=2.1.0->stack-data->ipython>=6.1.0->ipywidgets>=7.6.0->sidecar==0.5.1) (1.16.0)\n",
      "Requirement already satisfied: cffi>=1.0.1 in c:\\users\\lrspr\\anaconda3\\envs\\spi_setup\\lib\\site-packages (from argon2-cffi-bindings->argon2-cffi->jupyter-server<3,>=1.16.0->jupyterlab<4,>=3.0.0->sidecar==0.5.1) (1.15.1)\n",
      "Requirement already satisfied: soupsieve>1.2 in c:\\users\\lrspr\\anaconda3\\envs\\spi_setup\\lib\\site-packages (from beautifulsoup4->nbconvert>=6.4.4->jupyter-server<3,>=1.16.0->jupyterlab<4,>=3.0.0->sidecar==0.5.1) (2.3.2.post1)\n",
      "Requirement already satisfied: webencodings in c:\\users\\lrspr\\anaconda3\\envs\\spi_setup\\lib\\site-packages (from bleach->nbconvert>=6.4.4->jupyter-server<3,>=1.16.0->jupyterlab<4,>=3.0.0->sidecar==0.5.1) (0.5.1)\n",
      "Requirement already satisfied: pycparser in c:\\users\\lrspr\\anaconda3\\envs\\spi_setup\\lib\\site-packages (from cffi>=1.0.1->argon2-cffi-bindings->argon2-cffi->jupyter-server<3,>=1.16.0->jupyterlab<4,>=3.0.0->sidecar==0.5.1) (2.21)\n",
      "Installing collected packages: sidecar\n",
      "Successfully installed sidecar-0.5.1\n"
     ]
    }
   ],
   "source": [
    "!pip install kafka-python==2.0.2\n",
    "!pip install pymongo==4.3.3\n",
    "!pip install matplotlib==3.6.1\n",
    "!pip install opencv-python==4.6.0.66\n",
    "!pip install imutils==0.5.4\n",
    "# !conda install -c conda-forge dlib\n",
    "!pip install cmake==3.25.0\n",
    "!pip install face_recognition==1.3.0\n",
    "!pip install folium==0.13.0\n",
    "!pip install ipyleaflet==0.17.2\n",
    "!pip install sidecar==0.5.1"
   ]
  },
  {
   "cell_type": "code",
   "execution_count": 8,
   "id": "5fbf0739-3726-435d-83ca-96d1ef135201",
   "metadata": {},
   "outputs": [],
   "source": [
    "from spi_utilities import SPI_Utils"
   ]
  },
  {
   "cell_type": "code",
   "execution_count": null,
   "id": "c734161a-5229-40ef-a65e-f6bead3cb068",
   "metadata": {
    "tags": []
   },
   "outputs": [
    {
     "name": "stdout",
     "output_type": "stream",
     "text": [
      "decoded_message: {'video_path': 'http://commondatastorage.googleapis.com/gtv-videos-bucket/sample/ForBiggerBlazes.mp4', 'video_tag': 'video_one', 'camera_id': 11432, 'camera_latitude': 29.42842, 'camera_longitude': -98.43854}\n",
      "Started processing: http://commondatastorage.googleapis.com/gtv-videos-bucket/sample/ForBiggerBlazes.mp4\n"
     ]
    }
   ],
   "source": [
    "def main():\n",
    "    kafka_consumer = SPI_Utils(mode=\"consumer\")\n",
    "    kafka_consumer.mongodb_filler()   # trace this one to how it saves the frames\n",
    "main()"
   ]
  },
  {
   "cell_type": "code",
   "execution_count": null,
   "id": "aeee04fd-cbe3-435e-b2d1-74fe2ce4f899",
   "metadata": {},
   "outputs": [],
   "source": [
    "##########################################################"
   ]
  },
  {
   "cell_type": "code",
   "execution_count": null,
   "id": "75c5c625-a034-4009-a974-66c6ce6e887a",
   "metadata": {},
   "outputs": [],
   "source": [
    "##########################################################"
   ]
  },
  {
   "cell_type": "code",
   "execution_count": null,
   "id": "536ff424-1c7b-4c1f-9960-bbac69a65c1f",
   "metadata": {},
   "outputs": [],
   "source": [
    "##########################################################"
   ]
  },
  {
   "cell_type": "code",
   "execution_count": null,
   "id": "0677b111-9942-4762-ae21-9d838d119785",
   "metadata": {},
   "outputs": [],
   "source": [
    "##########################################################"
   ]
  },
  {
   "cell_type": "code",
   "execution_count": null,
   "id": "c8ab8df8-8d01-49f2-b21f-9640782999a2",
   "metadata": {},
   "outputs": [],
   "source": [
    "##########################################################"
   ]
  },
  {
   "cell_type": "code",
   "execution_count": null,
   "id": "f5981014-efc1-4161-8f6e-5fd304fba3f2",
   "metadata": {},
   "outputs": [],
   "source": [
    "##########################################################"
   ]
  },
  {
   "cell_type": "code",
   "execution_count": null,
   "id": "7f4a0c74-1cd7-43bd-86d1-7fb086f918b1",
   "metadata": {},
   "outputs": [],
   "source": [
    "##########################################################"
   ]
  },
  {
   "cell_type": "code",
   "execution_count": null,
   "id": "a23add49-a0be-4e0c-b17b-9599622012e5",
   "metadata": {},
   "outputs": [],
   "source": [
    "##########################################################"
   ]
  },
  {
   "cell_type": "code",
   "execution_count": null,
   "id": "d58077b3-3101-4fcf-835b-ae287faaf701",
   "metadata": {},
   "outputs": [],
   "source": [
    "##########################################################"
   ]
  },
  {
   "cell_type": "code",
   "execution_count": null,
   "id": "9d6f43e7-6d31-4cb9-b46b-031e8c673726",
   "metadata": {},
   "outputs": [],
   "source": [
    "##########################################################"
   ]
  },
  {
   "cell_type": "code",
   "execution_count": null,
   "id": "c862237e-7859-4670-a303-1102b14b720e",
   "metadata": {},
   "outputs": [],
   "source": [
    "##########################################################"
   ]
  },
  {
   "cell_type": "code",
   "execution_count": null,
   "id": "3a48cb93-61dc-4f65-b71c-588e0232b9f6",
   "metadata": {},
   "outputs": [],
   "source": [
    "##########################################################"
   ]
  },
  {
   "cell_type": "code",
   "execution_count": null,
   "id": "f4679711-6c67-48dd-abec-2d8eb4ac2279",
   "metadata": {},
   "outputs": [],
   "source": [
    "##########################################################"
   ]
  },
  {
   "cell_type": "code",
   "execution_count": null,
   "id": "3cb885c4-bc80-4766-ab35-e221a837284c",
   "metadata": {},
   "outputs": [],
   "source": [
    "##########################################################"
   ]
  },
  {
   "cell_type": "code",
   "execution_count": null,
   "id": "2d31779f-4472-482b-be56-e6118bb46f28",
   "metadata": {},
   "outputs": [],
   "source": [
    "##########################################################"
   ]
  }
 ],
 "metadata": {
  "kernelspec": {
   "display_name": "Python 3 (ipykernel)",
   "language": "python",
   "name": "python3"
  },
  "language_info": {
   "codemirror_mode": {
    "name": "ipython",
    "version": 3
   },
   "file_extension": ".py",
   "mimetype": "text/x-python",
   "name": "python",
   "nbconvert_exporter": "python",
   "pygments_lexer": "ipython3",
   "version": "3.10.6"
  }
 },
 "nbformat": 4,
 "nbformat_minor": 5
}
