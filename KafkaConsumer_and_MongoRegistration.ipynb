{
 "cells": [
  {
   "cell_type": "code",
   "execution_count": 1,
   "id": "5fbf0739-3726-435d-83ca-96d1ef135201",
   "metadata": {},
   "outputs": [],
   "source": [
    "from spi_utilities import SPI_Utils"
   ]
  },
  {
   "cell_type": "code",
   "execution_count": null,
   "id": "c734161a-5229-40ef-a65e-f6bead3cb068",
   "metadata": {
    "tags": []
   },
   "outputs": [
    {
     "name": "stdout",
     "output_type": "stream",
     "text": [
      "decoded_message: {'video_path': 'http://commondatastorage.googleapis.com/gtv-videos-bucket/sample/ForBiggerBlazes.mp4', 'video_tag': 'video_one', 'camera_id': 11432, 'camera_latitude': 29.42842, 'camera_longitude': -98.43854}\n",
      "Started processing: http://commondatastorage.googleapis.com/gtv-videos-bucket/sample/ForBiggerBlazes.mp4\n"
     ]
    }
   ],
   "source": [
    "def main():\n",
    "    kafka_consumer = SPI_Utils(mode=\"consumer\")\n",
    "    kafka_consumer.mongodb_filler()   # trace this one to how it saves the frames\n",
    "main()"
   ]
  },
  {
   "cell_type": "code",
   "execution_count": null,
   "id": "aeee04fd-cbe3-435e-b2d1-74fe2ce4f899",
   "metadata": {},
   "outputs": [],
   "source": [
    "##########################################################"
   ]
  },
  {
   "cell_type": "code",
   "execution_count": null,
   "id": "75c5c625-a034-4009-a974-66c6ce6e887a",
   "metadata": {},
   "outputs": [],
   "source": [
    "##########################################################"
   ]
  },
  {
   "cell_type": "code",
   "execution_count": null,
   "id": "536ff424-1c7b-4c1f-9960-bbac69a65c1f",
   "metadata": {},
   "outputs": [],
   "source": [
    "##########################################################"
   ]
  },
  {
   "cell_type": "code",
   "execution_count": null,
   "id": "0677b111-9942-4762-ae21-9d838d119785",
   "metadata": {},
   "outputs": [],
   "source": [
    "##########################################################"
   ]
  },
  {
   "cell_type": "code",
   "execution_count": null,
   "id": "c8ab8df8-8d01-49f2-b21f-9640782999a2",
   "metadata": {},
   "outputs": [],
   "source": [
    "##########################################################"
   ]
  },
  {
   "cell_type": "code",
   "execution_count": null,
   "id": "f5981014-efc1-4161-8f6e-5fd304fba3f2",
   "metadata": {},
   "outputs": [],
   "source": [
    "##########################################################"
   ]
  },
  {
   "cell_type": "code",
   "execution_count": null,
   "id": "7f4a0c74-1cd7-43bd-86d1-7fb086f918b1",
   "metadata": {},
   "outputs": [],
   "source": [
    "##########################################################"
   ]
  },
  {
   "cell_type": "code",
   "execution_count": null,
   "id": "a23add49-a0be-4e0c-b17b-9599622012e5",
   "metadata": {},
   "outputs": [],
   "source": [
    "##########################################################"
   ]
  },
  {
   "cell_type": "code",
   "execution_count": null,
   "id": "d58077b3-3101-4fcf-835b-ae287faaf701",
   "metadata": {},
   "outputs": [],
   "source": [
    "##########################################################"
   ]
  },
  {
   "cell_type": "code",
   "execution_count": null,
   "id": "9d6f43e7-6d31-4cb9-b46b-031e8c673726",
   "metadata": {},
   "outputs": [],
   "source": [
    "##########################################################"
   ]
  },
  {
   "cell_type": "code",
   "execution_count": null,
   "id": "c862237e-7859-4670-a303-1102b14b720e",
   "metadata": {},
   "outputs": [],
   "source": [
    "##########################################################"
   ]
  },
  {
   "cell_type": "code",
   "execution_count": null,
   "id": "3a48cb93-61dc-4f65-b71c-588e0232b9f6",
   "metadata": {},
   "outputs": [],
   "source": [
    "##########################################################"
   ]
  },
  {
   "cell_type": "code",
   "execution_count": null,
   "id": "f4679711-6c67-48dd-abec-2d8eb4ac2279",
   "metadata": {},
   "outputs": [],
   "source": [
    "##########################################################"
   ]
  },
  {
   "cell_type": "code",
   "execution_count": null,
   "id": "3cb885c4-bc80-4766-ab35-e221a837284c",
   "metadata": {},
   "outputs": [],
   "source": [
    "##########################################################"
   ]
  },
  {
   "cell_type": "code",
   "execution_count": null,
   "id": "2d31779f-4472-482b-be56-e6118bb46f28",
   "metadata": {},
   "outputs": [],
   "source": [
    "##########################################################"
   ]
  }
 ],
 "metadata": {
  "kernelspec": {
   "display_name": "Python 3 (ipykernel)",
   "language": "python",
   "name": "python3"
  },
  "language_info": {
   "codemirror_mode": {
    "name": "ipython",
    "version": 3
   },
   "file_extension": ".py",
   "mimetype": "text/x-python",
   "name": "python",
   "nbconvert_exporter": "python",
   "pygments_lexer": "ipython3",
   "version": "3.10.6"
  }
 },
 "nbformat": 4,
 "nbformat_minor": 5
}
