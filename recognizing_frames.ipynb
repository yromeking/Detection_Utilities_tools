{
 "cells": [
  {
   "cell_type": "code",
   "execution_count": 1,
   "id": "4fa531a2-eea2-4e2d-b48a-3221e6fae605",
   "metadata": {},
   "outputs": [],
   "source": [
    "from spi_utilities import SPI_Utils"
   ]
  },
  {
   "cell_type": "code",
   "execution_count": null,
   "id": "869bff6b-fac5-4faf-991e-05a5b2707b28",
   "metadata": {},
   "outputs": [
    {
     "name": "stdout",
     "output_type": "stream",
     "text": [
      "Requested video sources are:\n",
      "  - http://commondatastorage.googleapis.com/gtv-videos-bucket/sample/ForBiggerBlazes.mp4\n",
      "\n",
      "\n",
      "4 encoding images found.\n",
      "Encoding images loaded\n"
     ]
    },
    {
     "data": {
      "application/vnd.jupyter.widget-view+json": {
       "model_id": "d6cedc02efd2444bad2602fb6675b642",
       "version_major": 2,
       "version_minor": 0
      },
      "text/plain": [
       "Map(center=[38.6252978589571, -97.3458993652344], controls=(ZoomControl(options=['position', 'zoom_in_text', '…"
      ]
     },
     "metadata": {},
     "output_type": "display_data"
    },
    {
     "name": "stdout",
     "output_type": "stream",
     "text": [
      "New files #: 7\n",
      "New files #: 5\n",
      "<<<ERROR with file: 47f939687b67d411f69d032e8d3c818b83f65cbac1cbff350cca11f09209d0f8_12.json>>>\n",
      "Traceback (most recent call last):\n",
      "  File \"C:\\Users\\lrspr\\Desktop\\Masters_Program\\603_Big_Data\\Project\\Group_Project\\SPI_Project\\updated_SPI_Project\\spi_utilities.py\", line 276, in perform_spark_streaming_and_processing\n",
      "    json_data = json.load(json_file)\n",
      "  File \"C:\\Users\\lrspr\\anaconda3\\envs\\spi\\lib\\json\\__init__.py\", line 293, in load\n",
      "    return loads(fp.read(),\n",
      "  File \"C:\\Users\\lrspr\\anaconda3\\envs\\spi\\lib\\json\\__init__.py\", line 346, in loads\n",
      "    return _default_decoder.decode(s)\n",
      "  File \"C:\\Users\\lrspr\\anaconda3\\envs\\spi\\lib\\json\\decoder.py\", line 337, in decode\n",
      "    obj, end = self.raw_decode(s, idx=_w(s, 0).end())\n",
      "  File \"C:\\Users\\lrspr\\anaconda3\\envs\\spi\\lib\\json\\decoder.py\", line 353, in raw_decode\n",
      "    obj, end = self.scan_once(s, idx)\n",
      "json.decoder.JSONDecodeError: Expecting ',' delimiter: line 1 column 1605399 (char 1605398)\n",
      "\n",
      "\n",
      "\n",
      "New files #: 5\n",
      "New files #: 4\n",
      "New files #: 4\n",
      "New files #: 4\n",
      "New files #: 5\n",
      "<<<ERROR with file: 47f939687b67d411f69d032e8d3c818b83f65cbac1cbff350cca11f09209d0f8_33.json>>>\n",
      "Traceback (most recent call last):\n",
      "  File \"C:\\Users\\lrspr\\Desktop\\Masters_Program\\603_Big_Data\\Project\\Group_Project\\SPI_Project\\updated_SPI_Project\\spi_utilities.py\", line 276, in perform_spark_streaming_and_processing\n",
      "    json_data = json.load(json_file)\n",
      "  File \"C:\\Users\\lrspr\\anaconda3\\envs\\spi\\lib\\json\\__init__.py\", line 293, in load\n",
      "    return loads(fp.read(),\n",
      "  File \"C:\\Users\\lrspr\\anaconda3\\envs\\spi\\lib\\json\\__init__.py\", line 346, in loads\n",
      "    return _default_decoder.decode(s)\n",
      "  File \"C:\\Users\\lrspr\\anaconda3\\envs\\spi\\lib\\json\\decoder.py\", line 337, in decode\n",
      "    obj, end = self.raw_decode(s, idx=_w(s, 0).end())\n",
      "  File \"C:\\Users\\lrspr\\anaconda3\\envs\\spi\\lib\\json\\decoder.py\", line 353, in raw_decode\n",
      "    obj, end = self.scan_once(s, idx)\n",
      "json.decoder.JSONDecodeError: Expecting ',' delimiter: line 1 column 2940578 (char 2940577)\n",
      "\n",
      "\n",
      "\n",
      "New files #: 5\n",
      "New files #: 4\n",
      "New files #: 5\n",
      "<<<ERROR with file: 47f939687b67d411f69d032e8d3c818b83f65cbac1cbff350cca11f09209d0f8_46.json>>>\n",
      "Traceback (most recent call last):\n",
      "  File \"C:\\Users\\lrspr\\Desktop\\Masters_Program\\603_Big_Data\\Project\\Group_Project\\SPI_Project\\updated_SPI_Project\\spi_utilities.py\", line 276, in perform_spark_streaming_and_processing\n",
      "    json_data = json.load(json_file)\n",
      "  File \"C:\\Users\\lrspr\\anaconda3\\envs\\spi\\lib\\json\\__init__.py\", line 293, in load\n",
      "    return loads(fp.read(),\n",
      "  File \"C:\\Users\\lrspr\\anaconda3\\envs\\spi\\lib\\json\\__init__.py\", line 346, in loads\n",
      "    return _default_decoder.decode(s)\n",
      "  File \"C:\\Users\\lrspr\\anaconda3\\envs\\spi\\lib\\json\\decoder.py\", line 337, in decode\n",
      "    obj, end = self.raw_decode(s, idx=_w(s, 0).end())\n",
      "  File \"C:\\Users\\lrspr\\anaconda3\\envs\\spi\\lib\\json\\decoder.py\", line 353, in raw_decode\n",
      "    obj, end = self.scan_once(s, idx)\n",
      "json.decoder.JSONDecodeError: Expecting ',' delimiter: line 1 column 2629275 (char 2629274)\n",
      "\n",
      "\n",
      "\n",
      "New files #: 5\n",
      "New files #: 4\n",
      "New files #: 4\n",
      "New files #: 4\n",
      "New files #: 4\n",
      "New files #: 4\n",
      "New files #: 5\n",
      "<<<ERROR with file: 47f939687b67d411f69d032e8d3c818b83f65cbac1cbff350cca11f09209d0f8_75.json>>>\n",
      "Traceback (most recent call last):\n",
      "  File \"C:\\Users\\lrspr\\Desktop\\Masters_Program\\603_Big_Data\\Project\\Group_Project\\SPI_Project\\updated_SPI_Project\\spi_utilities.py\", line 276, in perform_spark_streaming_and_processing\n",
      "    json_data = json.load(json_file)\n",
      "  File \"C:\\Users\\lrspr\\anaconda3\\envs\\spi\\lib\\json\\__init__.py\", line 293, in load\n",
      "    return loads(fp.read(),\n",
      "  File \"C:\\Users\\lrspr\\anaconda3\\envs\\spi\\lib\\json\\__init__.py\", line 346, in loads\n",
      "    return _default_decoder.decode(s)\n",
      "  File \"C:\\Users\\lrspr\\anaconda3\\envs\\spi\\lib\\json\\decoder.py\", line 337, in decode\n",
      "    obj, end = self.raw_decode(s, idx=_w(s, 0).end())\n",
      "  File \"C:\\Users\\lrspr\\anaconda3\\envs\\spi\\lib\\json\\decoder.py\", line 353, in raw_decode\n",
      "    obj, end = self.scan_once(s, idx)\n",
      "json.decoder.JSONDecodeError: Expecting ',' delimiter: line 1 column 2883285 (char 2883284)\n",
      "\n",
      "\n",
      "\n",
      "New files #: 5\n",
      "New files #: 4\n",
      "New files #: 5\n",
      "<<<ERROR with file: 47f939687b67d411f69d032e8d3c818b83f65cbac1cbff350cca11f09209d0f8_88.json>>>\n",
      "Traceback (most recent call last):\n",
      "  File \"C:\\Users\\lrspr\\Desktop\\Masters_Program\\603_Big_Data\\Project\\Group_Project\\SPI_Project\\updated_SPI_Project\\spi_utilities.py\", line 276, in perform_spark_streaming_and_processing\n",
      "    json_data = json.load(json_file)\n",
      "  File \"C:\\Users\\lrspr\\anaconda3\\envs\\spi\\lib\\json\\__init__.py\", line 293, in load\n",
      "    return loads(fp.read(),\n",
      "  File \"C:\\Users\\lrspr\\anaconda3\\envs\\spi\\lib\\json\\__init__.py\", line 346, in loads\n",
      "    return _default_decoder.decode(s)\n",
      "  File \"C:\\Users\\lrspr\\anaconda3\\envs\\spi\\lib\\json\\decoder.py\", line 337, in decode\n",
      "    obj, end = self.raw_decode(s, idx=_w(s, 0).end())\n",
      "  File \"C:\\Users\\lrspr\\anaconda3\\envs\\spi\\lib\\json\\decoder.py\", line 355, in raw_decode\n",
      "    raise JSONDecodeError(\"Expecting value\", s, err.value) from None\n",
      "json.decoder.JSONDecodeError: Expecting value: line 1 column 3358154 (char 3358153)\n",
      "\n",
      "\n",
      "\n",
      "New files #: 5\n",
      "New files #: 5\n",
      "<<<ERROR with file: 47f939687b67d411f69d032e8d3c818b83f65cbac1cbff350cca11f09209d0f8_97.json>>>\n",
      "Traceback (most recent call last):\n",
      "  File \"C:\\Users\\lrspr\\Desktop\\Masters_Program\\603_Big_Data\\Project\\Group_Project\\SPI_Project\\updated_SPI_Project\\spi_utilities.py\", line 276, in perform_spark_streaming_and_processing\n",
      "    json_data = json.load(json_file)\n",
      "  File \"C:\\Users\\lrspr\\anaconda3\\envs\\spi\\lib\\json\\__init__.py\", line 293, in load\n",
      "    return loads(fp.read(),\n",
      "  File \"C:\\Users\\lrspr\\anaconda3\\envs\\spi\\lib\\json\\__init__.py\", line 346, in loads\n",
      "    return _default_decoder.decode(s)\n",
      "  File \"C:\\Users\\lrspr\\anaconda3\\envs\\spi\\lib\\json\\decoder.py\", line 337, in decode\n",
      "    obj, end = self.raw_decode(s, idx=_w(s, 0).end())\n",
      "  File \"C:\\Users\\lrspr\\anaconda3\\envs\\spi\\lib\\json\\decoder.py\", line 353, in raw_decode\n",
      "    obj, end = self.scan_once(s, idx)\n",
      "json.decoder.JSONDecodeError: Expecting ',' delimiter: line 1 column 3202544 (char 3202543)\n",
      "\n",
      "\n",
      "\n",
      "New files #: 5\n",
      "<<<ERROR with file: 47f939687b67d411f69d032e8d3c818b83f65cbac1cbff350cca11f09209d0f8_101.json>>>\n",
      "Traceback (most recent call last):\n",
      "  File \"C:\\Users\\lrspr\\Desktop\\Masters_Program\\603_Big_Data\\Project\\Group_Project\\SPI_Project\\updated_SPI_Project\\spi_utilities.py\", line 276, in perform_spark_streaming_and_processing\n",
      "    json_data = json.load(json_file)\n",
      "  File \"C:\\Users\\lrspr\\anaconda3\\envs\\spi\\lib\\json\\__init__.py\", line 293, in load\n",
      "    return loads(fp.read(),\n",
      "  File \"C:\\Users\\lrspr\\anaconda3\\envs\\spi\\lib\\json\\__init__.py\", line 346, in loads\n",
      "    return _default_decoder.decode(s)\n",
      "  File \"C:\\Users\\lrspr\\anaconda3\\envs\\spi\\lib\\json\\decoder.py\", line 337, in decode\n",
      "    obj, end = self.raw_decode(s, idx=_w(s, 0).end())\n",
      "  File \"C:\\Users\\lrspr\\anaconda3\\envs\\spi\\lib\\json\\decoder.py\", line 355, in raw_decode\n",
      "    raise JSONDecodeError(\"Expecting value\", s, err.value) from None\n",
      "json.decoder.JSONDecodeError: Expecting value: line 1 column 2555480 (char 2555479)\n",
      "\n",
      "\n",
      "\n",
      "New files #: 5\n",
      "New files #: 5\n",
      "<<<ERROR with file: 47f939687b67d411f69d032e8d3c818b83f65cbac1cbff350cca11f09209d0f8_110.json>>>\n",
      "Traceback (most recent call last):\n",
      "  File \"C:\\Users\\lrspr\\Desktop\\Masters_Program\\603_Big_Data\\Project\\Group_Project\\SPI_Project\\updated_SPI_Project\\spi_utilities.py\", line 276, in perform_spark_streaming_and_processing\n",
      "    json_data = json.load(json_file)\n",
      "  File \"C:\\Users\\lrspr\\anaconda3\\envs\\spi\\lib\\json\\__init__.py\", line 293, in load\n",
      "    return loads(fp.read(),\n",
      "  File \"C:\\Users\\lrspr\\anaconda3\\envs\\spi\\lib\\json\\__init__.py\", line 346, in loads\n",
      "    return _default_decoder.decode(s)\n",
      "  File \"C:\\Users\\lrspr\\anaconda3\\envs\\spi\\lib\\json\\decoder.py\", line 337, in decode\n",
      "    obj, end = self.raw_decode(s, idx=_w(s, 0).end())\n",
      "  File \"C:\\Users\\lrspr\\anaconda3\\envs\\spi\\lib\\json\\decoder.py\", line 353, in raw_decode\n",
      "    obj, end = self.scan_once(s, idx)\n",
      "json.decoder.JSONDecodeError: Expecting ',' delimiter: line 1 column 3366357 (char 3366356)\n",
      "\n",
      "\n",
      "\n",
      "New files #: 5\n",
      "New files #: 4\n",
      "New files #: 4\n",
      "New files #: 4\n",
      "New files #: 4\n",
      "New files #: 5\n",
      "<<<ERROR with file: 47f939687b67d411f69d032e8d3c818b83f65cbac1cbff350cca11f09209d0f8_135.json>>>\n",
      "Traceback (most recent call last):\n",
      "  File \"C:\\Users\\lrspr\\Desktop\\Masters_Program\\603_Big_Data\\Project\\Group_Project\\SPI_Project\\updated_SPI_Project\\spi_utilities.py\", line 276, in perform_spark_streaming_and_processing\n",
      "    json_data = json.load(json_file)\n",
      "  File \"C:\\Users\\lrspr\\anaconda3\\envs\\spi\\lib\\json\\__init__.py\", line 293, in load\n",
      "    return loads(fp.read(),\n",
      "  File \"C:\\Users\\lrspr\\anaconda3\\envs\\spi\\lib\\json\\__init__.py\", line 346, in loads\n",
      "    return _default_decoder.decode(s)\n",
      "  File \"C:\\Users\\lrspr\\anaconda3\\envs\\spi\\lib\\json\\decoder.py\", line 337, in decode\n",
      "    obj, end = self.raw_decode(s, idx=_w(s, 0).end())\n",
      "  File \"C:\\Users\\lrspr\\anaconda3\\envs\\spi\\lib\\json\\decoder.py\", line 353, in raw_decode\n",
      "    obj, end = self.scan_once(s, idx)\n",
      "json.decoder.JSONDecodeError: Expecting ',' delimiter: line 1 column 2719318 (char 2719317)\n",
      "\n",
      "\n",
      "\n",
      "New files #: 5\n",
      "New files #: 4\n",
      "New files #: 4\n",
      "Face detected at cam_id = 11432, frame_num = 0: Emilia_Clarke at Lat/Long = 29.42842/-98.43854\n",
      "New files #: 4\n",
      "New files #: 5\n",
      "New files #: 5\n",
      "Face detected at cam_id = 11432, frame_num = 1: Emilia_Clarke at Lat/Long = 29.42842/-98.43854\n",
      "New files #: 6\n"
     ]
    }
   ],
   "source": [
    "def main():\n",
    "    frame_recongizer = SPI_Utils(mode=\"recognition\")\n",
    "    frame_recongizer.perform_spark_streaming_and_processing() \n",
    "main()"
   ]
  },
  {
   "cell_type": "code",
   "execution_count": null,
   "id": "c4c3a555-32f5-429f-928d-8330519e68ca",
   "metadata": {},
   "outputs": [],
   "source": [
    "##########################################################"
   ]
  },
  {
   "cell_type": "code",
   "execution_count": null,
   "id": "393211da-1b35-4b31-9877-22611f2ab9cc",
   "metadata": {},
   "outputs": [],
   "source": [
    "##########################################################"
   ]
  },
  {
   "cell_type": "code",
   "execution_count": null,
   "id": "d8a98ee1-4547-44f6-be48-4eaa1751c77c",
   "metadata": {},
   "outputs": [],
   "source": [
    "##########################################################"
   ]
  },
  {
   "cell_type": "code",
   "execution_count": null,
   "id": "0b720d88-4a7c-49af-8726-05e681ad9e21",
   "metadata": {},
   "outputs": [],
   "source": [
    "##########################################################"
   ]
  },
  {
   "cell_type": "code",
   "execution_count": null,
   "id": "48561314-b16d-409c-9775-c9dbf4fbe91a",
   "metadata": {},
   "outputs": [],
   "source": [
    "##########################################################"
   ]
  },
  {
   "cell_type": "code",
   "execution_count": null,
   "id": "6304c8ba-6d09-4ce6-b471-1eca1a3a7380",
   "metadata": {},
   "outputs": [],
   "source": [
    "##########################################################"
   ]
  },
  {
   "cell_type": "code",
   "execution_count": null,
   "id": "8a05a8fd-96f1-44f7-b28a-9ac425892895",
   "metadata": {},
   "outputs": [],
   "source": [
    "##########################################################"
   ]
  },
  {
   "cell_type": "code",
   "execution_count": null,
   "id": "fb04a6cb-2040-4351-aa92-2eac186a16cd",
   "metadata": {},
   "outputs": [],
   "source": [
    "##########################################################"
   ]
  },
  {
   "cell_type": "code",
   "execution_count": null,
   "id": "f07d831d-f54b-40bc-a4f2-251efa1448d1",
   "metadata": {},
   "outputs": [],
   "source": [
    "##########################################################"
   ]
  },
  {
   "cell_type": "code",
   "execution_count": null,
   "id": "24e07886-7bdb-4354-9944-2a778fe0caed",
   "metadata": {},
   "outputs": [],
   "source": [
    "##########################################################"
   ]
  },
  {
   "cell_type": "code",
   "execution_count": null,
   "id": "2624dfc9-5843-4c20-afd0-f7142c7867a5",
   "metadata": {},
   "outputs": [],
   "source": [
    "##########################################################"
   ]
  },
  {
   "cell_type": "code",
   "execution_count": null,
   "id": "64edf1df-dc7f-464c-a454-e5c109e44d34",
   "metadata": {},
   "outputs": [],
   "source": [
    "##########################################################"
   ]
  },
  {
   "cell_type": "code",
   "execution_count": null,
   "id": "d7c11354-5773-4109-b968-d1af96ae27be",
   "metadata": {},
   "outputs": [],
   "source": [
    "##########################################################"
   ]
  },
  {
   "cell_type": "code",
   "execution_count": null,
   "id": "e66604b4-7be3-4afb-a974-fdca3b485b9a",
   "metadata": {},
   "outputs": [],
   "source": [
    "##########################################################"
   ]
  },
  {
   "cell_type": "code",
   "execution_count": null,
   "id": "2aefbeb4-e831-4316-a84a-81b77402d0bc",
   "metadata": {},
   "outputs": [],
   "source": [
    "##########################################################"
   ]
  },
  {
   "cell_type": "code",
   "execution_count": null,
   "id": "22608afc-dd66-4835-bd05-e6a2f06c5941",
   "metadata": {},
   "outputs": [],
   "source": [
    "##########################################################"
   ]
  },
  {
   "cell_type": "code",
   "execution_count": null,
   "id": "f139c4fb-b0a5-4bf0-bc7b-d299c81f33c8",
   "metadata": {},
   "outputs": [],
   "source": [
    "##########################################################"
   ]
  },
  {
   "cell_type": "code",
   "execution_count": null,
   "id": "d3c24c6e-eef7-4681-a760-380f2103fa07",
   "metadata": {},
   "outputs": [],
   "source": [
    "##########################################################"
   ]
  },
  {
   "cell_type": "code",
   "execution_count": null,
   "id": "9a1a3323-0f66-445d-b04a-cc53dd3fb130",
   "metadata": {},
   "outputs": [],
   "source": [
    "##########################################################"
   ]
  },
  {
   "cell_type": "code",
   "execution_count": null,
   "id": "7803eb83-7ed6-40ed-8cf3-535c00cbbcb9",
   "metadata": {},
   "outputs": [],
   "source": [
    "##########################################################"
   ]
  }
 ],
 "metadata": {
  "kernelspec": {
   "display_name": "Python 3 (ipykernel)",
   "language": "python",
   "name": "python3"
  },
  "language_info": {
   "codemirror_mode": {
    "name": "ipython",
    "version": 3
   },
   "file_extension": ".py",
   "mimetype": "text/x-python",
   "name": "python",
   "nbconvert_exporter": "python",
   "pygments_lexer": "ipython3",
   "version": "3.10.6"
  }
 },
 "nbformat": 4,
 "nbformat_minor": 5
}
